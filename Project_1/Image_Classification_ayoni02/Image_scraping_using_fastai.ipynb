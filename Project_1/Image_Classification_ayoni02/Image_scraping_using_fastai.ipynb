{
  "nbformat": 4,
  "nbformat_minor": 0,
  "metadata": {
    "colab": {
      "provenance": [],
      "authorship_tag": "ABX9TyNib0mpJs7rENzwrRHbMF0E",
      "include_colab_link": true
    },
    "kernelspec": {
      "name": "python3",
      "display_name": "Python 3"
    },
    "language_info": {
      "name": "python"
    }
  },
  "cells": [
    {
      "cell_type": "markdown",
      "metadata": {
        "id": "view-in-github",
        "colab_type": "text"
      },
      "source": [
        "<a href=\"https://colab.research.google.com/github/ayoni02/AI-Hacktober-MLSA/blob/main/Project_1/Data/Image_scraping_using_fastai.ipynb\" target=\"_parent\"><img src=\"https://colab.research.google.com/assets/colab-badge.svg\" alt=\"Open In Colab\"/></a>"
      ]
    },
    {
      "cell_type": "markdown",
      "source": [
        "This notebook contains code that can allow you to scrape multiple image types from the duckgo search engine. I exracted it from [the fastai github](https://course.fast.ai/Lessons/lesson2.html).\n",
        "\n",
        "Head over there to see a much more comprehensive mode of searching"
      ],
      "metadata": {
        "id": "A_nbXzjYasB0"
      }
    },
    {
      "cell_type": "code",
      "execution_count": null,
      "metadata": {
        "id": "jKtqc-MoajwG"
      },
      "outputs": [],
      "source": [
        "# use this to download the fastai package\n",
        "#!pip install -Uqq fastai"
      ]
    },
    {
      "cell_type": "code",
      "source": [
        "from fastcore.all import *\n",
        "from fastdownload import download_url\n",
        "from fastai.vision.all import *\n",
        "import time\n",
        "import json"
      ],
      "metadata": {
        "id": "KRq23S2LcKB8"
      },
      "execution_count": null,
      "outputs": []
    },
    {
      "cell_type": "code",
      "source": [
        "def search_images(term, max_images=200):\n",
        "    url = 'https://duckduckgo.com/'\n",
        "    res = urlread(url,data={'q':term})\n",
        "    searchObj = re.search(r'vqd=([\\d-]+)\\&', res)\n",
        "    requestUrl = url + 'i.js'\n",
        "    params = dict(l='us-en', o='json', q=term, vqd=searchObj.group(1), f=',,,', p='1', v7exp='a')\n",
        "    headers = dict( referer='https://duckduckgo.com/' )\n",
        "    urls,data = set(),{'next':1}\n",
        "    while len(urls)<max_images and 'next' in data:\n",
        "        res = urlread(requestUrl, data=params, headers=headers)\n",
        "        data = json.loads(res) if res else {}\n",
        "        urls.update(L(data['results']).itemgot('image'))\n",
        "        requestUrl = url + data['next']\n",
        "        time.sleep(0.2)\n",
        "    return L(urls)[:max_images]"
      ],
      "metadata": {
        "id": "NiRLitS7cU6x"
      },
      "execution_count": null,
      "outputs": []
    },
    {
      "cell_type": "code",
      "source": [
        "# BSH represent the three folders for each image type and also the name of the image its searching for, you can add or remove from the folder\n",
        "BSH = 'BUNGALOW BUILDING', 'STOREY BUILDING', 'HIGH RISE BUILDING'\n",
        "# while path represents the parent folder holding all three the BSH folder\n",
        "path= Path('Data')"
      ],
      "metadata": {
        "id": "J-3nw2f_cZVL"
      },
      "execution_count": null,
      "outputs": []
    },
    {
      "cell_type": "code",
      "source": [
        "for o in BSH:\n",
        "  urls=search_images(o, max_images=100)\n",
        "  for i in range(100):\n",
        "    des = (path/o)\n",
        "    des.mkdir(exist_ok=True, parents=True)\n",
        "    dest = des/f'{i} {o.lower()}.jpg'\n",
        "    try:\n",
        "      #you can turn show progress off soo to reduce the output. I have a bad network so i always want to know how far its progressing\n",
        "      download_url(urls[i], dest, show_progress=True)\n",
        "    except:\n",
        "      continue\n",
        "    resize_images(path/o, max_size=400, dest=path/o)"
      ],
      "metadata": {
        "id": "mYvP_2k5c8y_"
      },
      "execution_count": null,
      "outputs": []
    },
    {
      "cell_type": "code",
      "source": [
        "fns = get_image_files(path)\n",
        "failed = verify_images(fns)\n",
        "failed"
      ],
      "metadata": {
        "id": "4b7sp1NddAbH"
      },
      "execution_count": null,
      "outputs": []
    },
    {
      "cell_type": "code",
      "source": [
        "#This removes anyfailed imgaes from the folders\n",
        "failed.map(Path.unlink)"
      ],
      "metadata": {
        "id": "p3d1VJHMdlIV"
      },
      "execution_count": null,
      "outputs": []
    }
  ]
}