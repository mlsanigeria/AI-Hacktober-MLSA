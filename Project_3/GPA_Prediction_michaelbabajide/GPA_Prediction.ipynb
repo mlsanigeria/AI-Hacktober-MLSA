{
 "cells": [
  {
   "cell_type": "markdown",
   "id": "68c4d65d",
   "metadata": {},
   "source": [
    "# GPA Prediction Starter Notebook\n",
    "\n",
    "Welcome to the GPA Prediction Starter Notebook for our project! 🚀\n",
    "\n",
    "In this notebook, you'll find a ready-to-use Python script that provides a solid foundation for building a GPA predictor based on the data from `year1_gpa.csv`.\n",
    "\n",
    "## Getting Started\n",
    "\n",
    "To get started, follow these steps:\n",
    "\n",
    "1. **Clone the Repository**: Begin by cloning this repository to your local machine.\n",
    "\n",
    "2. **Organize Your Data**: Ensure that your GPA data is organized in the `Data` directory, particularly the `year1_gpa.csv` file.\n",
    "\n",
    "3. **Open the Notebook**: Open this notebook in a Jupyter environment.\n",
    "\n",
    "4. **Follow the Code**: The notebook contains commented code that guides you through the process of setting up the data, building and training the model, and evaluating its performance.\n",
    "\n",
    "5. **Experiment and Contribute**: Feel free to experiment with different models,engineering features, hyperparameters, or preprocessing techniques. If you come up with improvements, consider contributing them back to the project!\n",
    "\n",
    "## Important Notes\n",
    "\n",
    "- Ensure that you have the necessary Python libraries, such as Pandas, NumPy, and scikit-learn, installed in your environment.\n",
    "- If you encounter any issues or have questions, don't hesitate to reach out. We're here to help!\n",
    "\n",
    "Happy coding, and let's build an amazing GPA predictor together! \n"
   ]
  },
  {
   "cell_type": "code",
   "execution_count": 1,
   "id": "6ee4356f",
   "metadata": {},
   "outputs": [
    {
     "name": "stdout",
     "output_type": "stream",
     "text": [
      "Importation complete\n"
     ]
    }
   ],
   "source": [
    "# Import necessary libraries\n",
    "import pandas as pd\n",
    "import numpy as np\n",
    "from sklearn.model_selection import train_test_split\n",
    "from sklearn.linear_model import LinearRegression\n",
    "from sklearn.metrics import mean_squared_error\n",
    "from sklearn.preprocessing import OrdinalEncoder, LabelEncoder\n",
    "import warnings\n",
    "import joblib\n",
    "# Set display options to show all columns\n",
    "pd.set_option('display.max_columns', None)\n",
    "\n",
    "# Ignore warnings\n",
    "warnings.filterwarnings('ignore')\n",
    "print(\"Importation complete\")"
   ]
  },
  {
   "cell_type": "code",
   "execution_count": null,
   "id": "ea57f719",
   "metadata": {},
   "outputs": [],
   "source": [
    "# Load the GPA data from year1_gpa.csv\n",
    "data_path = \"../Data/year1_gpa.csv\"  # Adjust the path as needed\n",
    "gpa_data = pd.read_csv(data_path,encoding='latin1')\n",
    "gpa_data.columns"
   ]
  },
  {
   "cell_type": "markdown",
   "id": "6f2fa180",
   "metadata": {},
   "source": [
    "## Data Preprocessing\n",
    "In the preprocessing stage, we carefully handle the GPA dataset by addressing missing values, performing feature engineering, and ensuring uniform data formatting to prepare it for accurate model training and prediction."
   ]
  },
  {
   "cell_type": "code",
   "execution_count": null,
   "id": "51128443",
   "metadata": {},
   "outputs": [],
   "source": [
    "# changes column names to lowercase and replaces spaces with underscores\n",
    "gpa_data.columns = gpa_data.columns.str.lower().str.replace(' ', '_')"
   ]
  },
  {
   "cell_type": "code",
   "execution_count": null,
   "id": "319ebe42",
   "metadata": {},
   "outputs": [],
   "source": [
    "\n",
    "\n",
    "# Dictionary to map long column names to short names\n",
    "new_column_names = {\n",
    "    'What was your age in Year One': 'age_in_year_one',\n",
    "    'Do you have a disability?': 'has_disability',\n",
    "    'Did you attend extra tutorials? ': 'attended_tutorials',\n",
    "    'How would you rate your participation in extracurricular activities (tech, music, partying, fellowship, etc.) in Year One?': 'extracurricular_participation',\n",
    "    'How would you rate your class attendance in Year One': 'class_attendance_rating',\n",
    "    'How well did you participate in class activities (Assignments, Asking and Answering Questions, Writing Notes....)': 'class_participation_rating',\n",
    "    'Did you use extra materials for study in Year One? (Youtube, Other books, others)': 'used_extra_study_materials',\n",
    "    'Morning': 'morning_study',\n",
    "    'Afternoon': 'afternoon_study',\n",
    "    'Evening': 'evening_study',\n",
    "    'Late Night': 'late_night_study',\n",
    "    'How many days per week did you do reading on average in Year One?': 'days_per_week_reading',\n",
    "    'On average, How many hours per day was used for personal study in Year One': 'hours_per_day_personal_study',\n",
    "    'Did you teach your peers in Year One': 'taught_peers',\n",
    "    'How many courses did you offer in Year One?': 'courses_offered',\n",
    "    'Did you fall sick in Year One? if yes, How many times do you remember (0 if none)': 'times_fell_sick',\n",
    "    'What was your study mode in Year 1': 'study_mode',\n",
    "    'Did you study the course your originally applied for?': 'studied_original_course',\n",
    "    'Rate your financial status in Year One': 'financial_status_rating',\n",
    "    'Rate the teaching style / method of the lectures received in Year One': 'teaching_style_rating',\n",
    "    'What type of higher institution did you attend in Year One\\n': 'institution_type',\n",
    "    'What was your CGPA in Year One?': 'cgpa_year_one',\n",
    "    'What grading system does your school use ( if others, type numbers only)': 'grading_system'\n",
    "}\n",
    "\n",
    "# Rename columns using the dictionary\n",
    "gpa_data.rename(columns=new_column_names, inplace=True)\n",
    "\n",
    "# Print the DataFrame with updated column names\n",
    "gpa_data\n"
   ]
  },
  {
   "cell_type": "code",
   "execution_count": null,
   "id": "9607b662",
   "metadata": {},
   "outputs": [],
   "source": [
    "# List of columns to drop\n",
    "columns_to_drop = ['start_time', 'completion_time', 'email', 'name', 'last_modified_time']\n",
    "\n",
    "# Drop the specified columns\n",
    "gpa_data.drop(columns=columns_to_drop, inplace=True)\n",
    "\n",
    "# Print the DataFrame after dropping columns\n",
    "gpa_data"
   ]
  },
  {
   "cell_type": "code",
   "execution_count": null,
   "id": "74b3bddd",
   "metadata": {},
   "outputs": [],
   "source": [
    "# Separate columns into numeric and categorical\n",
    "numeric_columns = gpa_data.select_dtypes(include=[np.number]).columns.tolist()\n",
    "categorical_columns = gpa_data.select_dtypes(include=[np.object]).columns.tolist()\n",
    "\n",
    "# Print the lists\n",
    "print(\"Numeric Columns:\")\n",
    "print(numeric_columns)\n",
    "\n",
    "print(\"\\nCategorical Columns:\")\n",
    "print(categorical_columns)\n"
   ]
  },
  {
   "cell_type": "code",
   "execution_count": null,
   "id": "82ff069e",
   "metadata": {},
   "outputs": [],
   "source": [
    "\n",
    "\n",
    "# Ordinal encoding map\n",
    "ordinal_encoding_map = {'A': 5, 'B': 4, 'C': 3, 'D': 2, 'E': 1, 'F': 6}\n",
    "\n",
    "# Features to encode\n",
    "features_to_encode = ['english', 'maths', 'subject_3', 'subject_4', 'subject_5']\n",
    "\n",
    "# Apply ordinal encoding for the specified features\n",
    "gpa_data[features_to_encode] = gpa_data[features_to_encode].apply(lambda col: col.map(ordinal_encoding_map))\n",
    "\n",
    "# Perform label encoding for other categorical columns\n",
    "categorical_columns = gpa_data.select_dtypes(include=['object']).columns\n",
    "label_encoder = LabelEncoder()\n",
    "\n",
    "for col in categorical_columns:\n",
    "    gpa_data[col] = label_encoder.fit_transform(gpa_data[col])\n",
    "\n",
    "# Create GPA_normalised and drop unnecessary columns\n",
    "gpa_data['GPA_normalised'] = gpa_data['cgpa_year_one'] / gpa_data['grading_system']\n",
    "gpa_data.drop(['grading_system', 'cgpa_year_one'], axis=1, inplace=True)\n",
    "\n",
    "\n",
    "# Print the DataFrame after engineering\n",
    "gpa_data\n"
   ]
  },
  {
   "cell_type": "markdown",
   "id": "da2fe098",
   "metadata": {},
   "source": [
    "### Mutual Information"
   ]
  },
  {
   "cell_type": "code",
   "execution_count": null,
   "id": "14fcd3fc",
   "metadata": {},
   "outputs": [],
   "source": [
    "from sklearn.metrics import mutual_info_score\n",
    "\n",
    "def mutual_information_score(series):\n",
    "    return mutual_info_score(series, gpa_data.GPA_normalised)"
   ]
  },
  {
   "cell_type": "code",
   "execution_count": null,
   "id": "42c42091",
   "metadata": {},
   "outputs": [],
   "source": [
    "gpa_data[categorical_columns].apply(mutual_information_score).sort_values(ascending=False)"
   ]
  },
  {
   "cell_type": "markdown",
   "id": "8c6e272b",
   "metadata": {},
   "source": [
    "### Correlation"
   ]
  },
  {
   "cell_type": "code",
   "execution_count": null,
   "id": "bd0b9e03",
   "metadata": {},
   "outputs": [],
   "source": [
    "gpa_data[numeric_columns].corrwith(gpa_data.GPA_normalised)"
   ]
  },
  {
   "cell_type": "markdown",
   "id": "956dd850",
   "metadata": {},
   "source": [
    "## Machine Learning Modeling\n",
    "\n",
    "In this section, we will walk through the steps involved in building and evaluating a machine learning model for our GPA prediction task.\n"
   ]
  },
  {
   "cell_type": "markdown",
   "id": "4803d47f",
   "metadata": {},
   "source": [
    "### Model Training"
   ]
  },
  {
   "cell_type": "code",
   "execution_count": null,
   "id": "99913bf8",
   "metadata": {},
   "outputs": [],
   "source": [
    "X = gpa_data.drop(['id', 'GPA_normal'], axis=1)  # Features excluding 'id' and 'GPA_normal'\n",
    "y = gpa_data['GPA_normal']  # Target variable\n",
    "\n",
    "# Train-test split\n",
    "X_train, X_test, y_train, y_test = train_test_split(X, y, test_size=0.2, random_state=42)\n",
    "\n",
    "# Initialize the Linear Regression model\n",
    "model = LinearRegression()\n",
    "\n",
    "# Train the model\n",
    "model.fit(X_train, y_train)"
   ]
  },
  {
   "cell_type": "markdown",
   "id": "ab53c71a",
   "metadata": {},
   "source": [
    "### Model Evaluation"
   ]
  },
  {
   "cell_type": "code",
   "execution_count": null,
   "id": "9c958bb3",
   "metadata": {},
   "outputs": [],
   "source": [
    "# Predict on the test set\n",
    "y_pred = model.predict(X_test)\n",
    "\n",
    "# Evaluate the model\n",
    "rmse = mean_squared_error(y_test, y_pred, squared=False)\n",
    "print('Root Mean Squared Error (RMSE):', rmse)"
   ]
  },
  {
   "cell_type": "markdown",
   "id": "a8f50adc",
   "metadata": {},
   "source": [
    "### Save the model"
   ]
  },
  {
   "cell_type": "code",
   "execution_count": null,
   "id": "71e95e8b",
   "metadata": {},
   "outputs": [],
   "source": [
    "# Save the model to a file\n",
    "model_filename = 'linear_regression_model.joblib'\n",
    "joblib.dump(model, model_filename)\n",
    "\n",
    "print('Model saved to', model_filename)"
   ]
  },
  {
   "cell_type": "markdown",
   "id": "94594dfe",
   "metadata": {},
   "source": [
    "### Tips to Improve Model Performance\n",
    "\n",
    "1. **Data Quality:**\n",
    "   - Ensure clean, high-quality data without missing values or outliers.\n",
    "\n",
    "2. **Feature Engineering:**\n",
    "   - Create relevant and new features that capture essential patterns in the data.\n",
    "\n",
    "3. **Model Selection:**\n",
    "   - Choose appropriate models and tune hyperparameters for better performance.\n",
    "\n",
    "4. **Ensemble Learning:**\n",
    "   - Combine multiple models to improve accuracy and robustness.\n",
    "\n",
    "5. **Regularization:**\n",
    "   - Implement regularization to prevent overfitting.\n",
    "\n",
    "7. **Domain Understanding:**\n",
    "   - Understand the problem domain to make informed model decisions.\n",
    "\n",
    "8. **Feedback Loop:**\n",
    "   - Continuously iterate and improve the model based on feedback and new data.\n",
    "\n",
    "---\n",
    "\n",
    "## HAPPY HACKING!!\n",
    "\n",
    "\n"
   ]
  },
  {
   "cell_type": "code",
   "execution_count": null,
   "id": "1052270e",
   "metadata": {},
   "outputs": [],
   "source": []
  }
 ],
 "metadata": {
  "kernelspec": {
   "display_name": "Python 3 (ipykernel)",
   "language": "python",
   "name": "python3"
  },
  "language_info": {
   "codemirror_mode": {
    "name": "ipython",
    "version": 3
   },
   "file_extension": ".py",
   "mimetype": "text/x-python",
   "name": "python",
   "nbconvert_exporter": "python",
   "pygments_lexer": "ipython3",
   "version": "3.9.0"
  }
 },
 "nbformat": 4,
 "nbformat_minor": 5
}
