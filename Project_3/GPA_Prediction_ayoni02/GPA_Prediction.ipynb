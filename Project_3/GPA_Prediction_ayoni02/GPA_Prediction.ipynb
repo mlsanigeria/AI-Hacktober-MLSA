{
  "cells": [
    {
      "cell_type": "markdown",
      "metadata": {
        "id": "orpV8Cx20hIq"
      },
      "source": [
        "## Feature Columns\n",
        "    \n",
        "* ID: id\n",
        "* Start time: start_time\n",
        "* Completion time: completion_time\n",
        "* Email: email\n",
        "* Name: name\n",
        "* Last modified time: last_modified_time\n",
        "* Jamb score: jamb_score\n",
        "* English: english\n",
        "* Maths: maths\n",
        "* Subject 3: subject_3\n",
        "* Subject 4: subject_4\n",
        "* Subject 5: subject_5\n",
        "* What was your age in Year One: age_in_year_one\n",
        "* Gender: gender\n",
        "* Do you have a disability?: has_disability\n",
        "* Did you attend extra tutorials?: attended_tutorials\n",
        "* How would you rate your participation in extracurricular activiti(tech, music, partying, fellowship, etc.) in Year One?:  extracurricular_participation\n",
        "* How would you rate your class attendance in Year One: class_attendance_rating\n",
        "* How well did you participate in class activities (Assignments, Asking and Answering Questions, Writing Notes....): class_participation_rating\n",
        "* Did you use extra materials for study in Year One? (Youtube, Other books, others): used_extra_study_materials\n",
        "* Morning: morning_study\n",
        "* Afternoon: afternoon_study\n",
        "* Evening: evening_study\n",
        "* Late Night: late_night_study\n",
        "* How many days per week did you do reading on average in Year One?: days_per_week_reading\n",
        "* On average, How many hours per day was used for personal study in Year One: hours_per_day_personal_study\n",
        "* Did you teach your peers in Year One: taught_peers\n",
        "* How many courses did you offer in Year One?: courses_offered\n",
        "* Did you fall sick in Year One? if yes, How many times do you remember (0 if none): times_fell_sick\n",
        "* What was your study mode in Year 1: study_mode\n",
        "* Did you study the course your originally applied for?: studied_original_course\n",
        "* Rate your financial status in Year One: financial_status_rating\n",
        "* Rate the teaching style / method of the lectures received in Year One: teaching_style_rating\n",
        "* What type of higher institution did you attend in Year One\\n: institution_type\n",
        "* What was your CGPA in Year One?: cgpa_year_one\n",
        "* What grading system does your school use ( if others, type numbers only): grading_system"
      ]
    },
    {
      "cell_type": "code",
      "execution_count": null,
      "metadata": {
        "id": "MOXjwFbj0hIv"
      },
      "outputs": [],
      "source": [
        "import pandas as pd\n",
        "import numpy as np\n",
        "import matplotlib.pyplot as plt\n",
        "import seaborn as sns\n",
        "from sklearn.model_selection import train_test_split\n",
        "from sklearn.metrics import mean_squared_error,mean_absolute_error,explained_variance_score\n",
        "from sklearn.preprocessing import OrdinalEncoder, LabelEncoder\n",
        "import warnings\n",
        "# Set display options to show all columns\n",
        "pd.set_option('display.max_columns', None)\n",
        "\n",
        "# Ignore warnings\n",
        "warnings.filterwarnings('ignore')\n",
        "print(\"Importation complete\")"
      ]
    },
    {
      "cell_type": "code",
      "execution_count": null,
      "metadata": {
        "id": "-yIIh3Gb0hIz"
      },
      "outputs": [],
      "source": [
        "data_path = \"../Data/year1_gpa.csv\"  # Adjust the path as needed\n",
        "gpa_data = pd.read_csv(data_path,encoding='latin1')\n",
        "gpa_data.columns"
      ]
    },
    {
      "cell_type": "code",
      "source": [
        "# Dictionary to map old column names to new names\n",
        "new_column_names = {\n",
        "    'ID': 'id',\n",
        "    'Start time': 'start_time',\n",
        "    'Completion time': 'completion_time',\n",
        "    'Email': 'email',\n",
        "    'Name': 'name',\n",
        "    'Last modified time': 'last_modified_time',\n",
        "    'Jamb score': 'jamb_score',\n",
        "    'English': 'english',\n",
        "    'Maths': 'maths',\n",
        "    'Subject 3': 'subject_3',\n",
        "    'Subject 4': 'subject_4',\n",
        "    'Subject 5': 'subject_5',\n",
        "    'What was your age in Year One': 'age_in_year_one',\n",
        "    'Gender': 'gender',\n",
        "    'Do you have a disability?': 'has_disability',\n",
        "    'Did you attend extra tutorials? ': 'attended_tutorials',\n",
        "    'How would you rate your participation in extracurricular activities (tech, music, partying, fellowship, etc.) in Year One?': 'extracurricular_participation',\n",
        "    'How would you rate your class attendance in Year One': 'class_attendance_rating',\n",
        "    'How well did you participate in class activities (Assignments, Asking and Answering Questions, Writing Notes....)': 'class_participation_rating',\n",
        "    'Did you use extra materials for study in Year One? (Youtube, Other books, others)': 'used_extra_study_materials',\n",
        "    'Morning': 'morning_study',\n",
        "    'Afternoon': 'afternoon_study',\n",
        "    'Evening': 'evening_study',\n",
        "    'Late Night': 'late_night_study',\n",
        "    'How many days per week did you do reading on average in Year One?': 'days_per_week_reading',\n",
        "    'On average, How many hours per day was used for personal study in Year One': 'hours_per_day_personal_study',\n",
        "    'Did you teach your peers in Year One': 'taught_peers',\n",
        "    'How many courses did you offer in Year One?': 'courses_offered',\n",
        "    'Did you fall sick in Year One? if yes, How many times do you remember (0 if none)': 'times_fell_sick',\n",
        "    'What was your study mode in Year 1': 'study_mode',\n",
        "    'Did you study the course your originally applied for?': 'studied_original_course',\n",
        "    'Rate your financial status in Year One': 'financial_status_rating',\n",
        "    'Rate the teaching style / method of the lectures received in Year One': 'teaching_style_rating',\n",
        "    'What type of higher institution did you attend in Year One\\n': 'institution_type',\n",
        "    'What was your CGPA in Year One?': 'cgpa_year_one',\n",
        "    'What grading system does your school use ( if others, type numbers only)': 'grading_system'\n",
        "}\n",
        "\n",
        "# Rename columns using the dictionary\n",
        "gpa_data.rename(columns=new_column_names, inplace=True)\n",
        "\n",
        "# Print the DataFrame with updated column names\n",
        "gpa_data()\n"
      ],
      "metadata": {
        "id": "KGv-XzCk1AVR"
      },
      "execution_count": null,
      "outputs": []
    },
    {
      "cell_type": "markdown",
      "metadata": {
        "id": "r87ECyfI0hJR"
      },
      "source": [
        "## Feature Engineering"
      ]
    },
    {
      "cell_type": "code",
      "source": [
        "# List of columns to drop\n",
        "columns_to_drop = ['start_time', 'completion_time', 'email', 'name', 'last_modified_time']\n",
        "\n",
        "# Drop the specified columns\n",
        "gpa_data = gpa_data.drop(columns=columns_to_drop)\n",
        "\n",
        "# Print the DataFrame after dropping columns\n",
        "gpa_data.head()"
      ],
      "metadata": {
        "id": "_AICsDxP3H9l"
      },
      "execution_count": null,
      "outputs": []
    },
    {
      "cell_type": "code",
      "source": [
        "# Separate columns into numeric and categorical\n",
        "numeric_columns = gpa_data.select_dtypes(include=[np.number]).columns.tolist()\n",
        "categorical_columns = gpa_data.select_dtypes(include=[np.object]).columns.tolist()\n",
        "\n",
        "# Print the lists\n",
        "print(\"Numeric Columns:\")\n",
        "print(numeric_columns)\n",
        "\n",
        "print(\"\\nCategorical Columns:\")\n",
        "print(categorical_columns)"
      ],
      "metadata": {
        "id": "pGP6RwPk53kg"
      },
      "execution_count": null,
      "outputs": []
    },
    {
      "cell_type": "code",
      "source": [
        "# Ordinal encoding map\n",
        "ordinal_encoding_map = {'A': 5, 'B': 4, 'C': 3, 'D': 2, 'E': 1, 'F': 0}\n",
        "\n",
        "# Features to encode\n",
        "features_to_encode = ['english', 'maths', 'subject_3', 'subject_4', 'subject_5']\n",
        "\n",
        "# Apply ordinal encoding for the specified features\n",
        "gpa_data[features_to_encode] = gpa_data[features_to_encode].apply(lambda col: col.map(ordinal_encoding_map))\n",
        "\n",
        "# Perform label encoding for other categorical columns\n",
        "categorical_columns = gpa_data.select_dtypes(include=['object']).columns\n",
        "label_encoder = LabelEncoder()\n",
        "\n",
        "for col in categorical_columns:\n",
        "    gpa_data[col] = label_encoder.fit_transform(gpa_data[col])\n",
        "\n",
        "# Create GPA_normal and drop unnecessary columns\n",
        "gpa_data['GPA_normal'] = gpa_data['cgpa_year_one'] / gpa_data['grading_system']\n",
        "gpa_data.drop(['grading_system', 'cgpa_year_one'], axis=1, inplace=True)\n",
        "\n",
        "\n",
        "# Print the DataFrame after engineering\n",
        "gpa_data.head()"
      ],
      "metadata": {
        "id": "qkqHkxcD3iyA"
      },
      "execution_count": null,
      "outputs": []
    },
    {
      "cell_type": "code",
      "execution_count": null,
      "metadata": {
        "id": "rhar509d0hI3"
      },
      "outputs": [],
      "source": [
        "gpa_data.isnull().sum()"
      ]
    },
    {
      "cell_type": "markdown",
      "metadata": {
        "id": "_u_I4DdW0hI1"
      },
      "source": [
        "## Exploratory Data Analysis"
      ]
    },
    {
      "cell_type": "code",
      "execution_count": null,
      "metadata": {
        "id": "PikU-Fgn0hI4"
      },
      "outputs": [],
      "source": [
        "gpa_data.describe()"
      ]
    },
    {
      "cell_type": "markdown",
      "metadata": {
        "id": "RN69LlYa0hJe"
      },
      "source": [
        "## Scaling and Train Test Split"
      ]
    },
    {
      "cell_type": "code",
      "execution_count": null,
      "metadata": {
        "id": "zw1TVgRP0hJf"
      },
      "outputs": [],
      "source": [
        "X = gpa_data.drop(['id', 'GPA_normal'], axis=1)  # Features excluding 'id' and 'GPA_normal'\n",
        "y = gpa_data['GPA_normal']  # Target variable"
      ]
    },
    {
      "cell_type": "code",
      "execution_count": null,
      "metadata": {
        "id": "YMFUP3Uh0hJh"
      },
      "outputs": [],
      "source": [
        "X_train, X_test, y_train, y_test = train_test_split(X,y,test_size=0.3,random_state=101)"
      ]
    },
    {
      "cell_type": "markdown",
      "metadata": {
        "id": "sFgOUjtp0hJi"
      },
      "source": [
        "### Scaling"
      ]
    },
    {
      "cell_type": "code",
      "execution_count": null,
      "metadata": {
        "id": "-Wp2Gbn00hJj"
      },
      "outputs": [],
      "source": [
        "from sklearn.preprocessing import MinMaxScaler"
      ]
    },
    {
      "cell_type": "code",
      "execution_count": null,
      "metadata": {
        "id": "LFOYGVU90hJj"
      },
      "outputs": [],
      "source": [
        "scaler = MinMaxScaler()"
      ]
    },
    {
      "cell_type": "code",
      "execution_count": null,
      "metadata": {
        "id": "O3jjUp4K0hJk"
      },
      "outputs": [],
      "source": [
        "X_train= scaler.fit_transform(X_train)"
      ]
    },
    {
      "cell_type": "code",
      "execution_count": null,
      "metadata": {
        "id": "fF66kN-O0hJm"
      },
      "outputs": [],
      "source": [
        "X_test = scaler.transform(X_test)"
      ]
    },
    {
      "cell_type": "code",
      "execution_count": null,
      "metadata": {
        "id": "CkHRhE9B0hJn"
      },
      "outputs": [],
      "source": [
        "display(X_train.shape)\n",
        "display(X_test.shape)"
      ]
    },
    {
      "cell_type": "markdown",
      "metadata": {
        "id": "fEIyG4JP0hJo"
      },
      "source": [
        "## Creating a Model"
      ]
    },
    {
      "cell_type": "code",
      "execution_count": null,
      "metadata": {
        "id": "C6rtuN-g0hJp"
      },
      "outputs": [],
      "source": [
        "from tensorflow.keras.models import Sequential\n",
        "from tensorflow.keras.layers import Dense, Activation\n",
        "from tensorflow.keras.optimizers import Adam"
      ]
    },
    {
      "cell_type": "code",
      "execution_count": null,
      "metadata": {
        "id": "AhWD4-sY0hJq"
      },
      "outputs": [],
      "source": [
        "model = Sequential()\n",
        "# change xy with the other side of the X_train shape\n",
        "model.add(Dense(xy,activation='relu'))\n",
        "model.add(Dense(xy,activation='relu'))\n",
        "model.add(Dense(xy,activation='relu'))\n",
        "model.add(Dense(xy,activation='relu'))\n",
        "# output would be one\n",
        "model.add(Dense(1))\n",
        "\n",
        "model.compile(optimizer='adam',loss='mse')"
      ]
    },
    {
      "cell_type": "markdown",
      "metadata": {
        "id": "Tex92n1S0hJr"
      },
      "source": [
        "## Training the Model"
      ]
    },
    {
      "cell_type": "code",
      "execution_count": null,
      "metadata": {
        "id": "IGl6wzFK0hJr"
      },
      "outputs": [],
      "source": [
        "model.fit(x=X_train,y=y_train.values,\n",
        "          validation_data=(X_test,y_test.values),\n",
        "          batch_size=128,epochs=400)"
      ]
    },
    {
      "cell_type": "code",
      "execution_count": null,
      "metadata": {
        "id": "-u6blUa00hJs"
      },
      "outputs": [],
      "source": [
        "losses = pd.DataFrame(model.history.history)"
      ]
    },
    {
      "cell_type": "code",
      "execution_count": null,
      "metadata": {
        "id": "adM8KY1m0hJt"
      },
      "outputs": [],
      "source": [
        "losses.plot()"
      ]
    },
    {
      "cell_type": "markdown",
      "metadata": {
        "id": "Pmm0Dqrl0hJu"
      },
      "source": [
        "# Evaluation on Test Data"
      ]
    },
    {
      "cell_type": "code",
      "execution_count": null,
      "metadata": {
        "id": "C_m3RBnE0hJz"
      },
      "outputs": [],
      "source": [
        "X_test"
      ]
    },
    {
      "cell_type": "code",
      "execution_count": null,
      "metadata": {
        "id": "f4uGUHS80hJ0"
      },
      "outputs": [],
      "source": [
        "predictions = model.predict(X_test)"
      ]
    },
    {
      "cell_type": "code",
      "execution_count": null,
      "metadata": {
        "id": "zfIxZoX40hJ1"
      },
      "outputs": [],
      "source": [
        "mean_absolute_error(y_test,predictions)"
      ]
    },
    {
      "cell_type": "code",
      "execution_count": null,
      "metadata": {
        "id": "STnqT6fJ0hJ2",
        "outputId": "89f24b96-3e62-45fb-ab0b-ee8287aab62d"
      },
      "outputs": [
        {
          "data": {
            "text/plain": [
              "170315.2072705816"
            ]
          },
          "execution_count": 53,
          "metadata": {},
          "output_type": "execute_result"
        }
      ],
      "source": [
        "np.sqrt(mean_squared_error(y_test,predictions))"
      ]
    },
    {
      "cell_type": "code",
      "execution_count": null,
      "metadata": {
        "id": "mAvDSLC80hJ7"
      },
      "outputs": [],
      "source": [
        "# Our predictions\n",
        "plt.scatter(y_test,predictions)\n",
        "\n",
        "# Perfect predictions\n",
        "plt.plot(y_test,y_test,'r')"
      ]
    },
    {
      "cell_type": "code",
      "execution_count": null,
      "metadata": {
        "id": "cLUp3SDs0hJ8"
      },
      "outputs": [],
      "source": [
        "errors = y_test.values.reshape(6480, 1) - predictions"
      ]
    },
    {
      "cell_type": "code",
      "execution_count": null,
      "metadata": {
        "id": "wKhQj0Dh0hJ8"
      },
      "outputs": [],
      "source": [
        "sns.distplot(errors)"
      ]
    },
    {
      "cell_type": "markdown",
      "source": [
        "## Save the model"
      ],
      "metadata": {
        "id": "2PgUFGa6GMf6"
      }
    },
    {
      "cell_type": "code",
      "source": [
        "import joblib\n",
        "\n",
        "model_filename = 'linear_regression_model.joblib'\n",
        "joblib.dump(model, model_filename)\n",
        "\n",
        "print('Model saved to', model_filename)"
      ],
      "metadata": {
        "id": "fJFxAUgqGBct"
      },
      "execution_count": null,
      "outputs": []
    }
  ],
  "metadata": {
    "kernelspec": {
      "display_name": "Python 3 (ipykernel)",
      "language": "python",
      "name": "python3"
    },
    "language_info": {
      "codemirror_mode": {
        "name": "ipython",
        "version": 3
      },
      "file_extension": ".py",
      "mimetype": "text/x-python",
      "name": "python",
      "nbconvert_exporter": "python",
      "pygments_lexer": "ipython3",
      "version": "3.9.12"
    },
    "colab": {
      "provenance": []
    }
  },
  "nbformat": 4,
  "nbformat_minor": 0
}